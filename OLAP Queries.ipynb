{
 "cells": [
  {
   "cell_type": "markdown",
   "id": "6e2f517a",
   "metadata": {},
   "source": [
    "<h1><left><font color=\"blue\">OLAP Queries with PySpark</font></left></h1>"
   ]
  },
  {
   "cell_type": "code",
   "execution_count": 18,
   "id": "b98daf26",
   "metadata": {},
   "outputs": [],
   "source": [
    "from pyspark.sql import SparkSession\n",
    "from pyspark.sql.functions import col\n",
    "\n",
    "# Initialize SparkSession\n",
    "spark = SparkSession.builder.appName(\"SpotifyAnalytics\").getOrCreate()"
   ]
  },
  {
   "cell_type": "markdown",
   "id": "de3b4030",
   "metadata": {},
   "source": [
    "<h3><left><font color=\"green\">Example OLAP-style queries with specific column names<br><br>\n",
    " 1. Aggregating by genre and calculating average popularity</font></left></h3>"
   ]
  },
  {
   "cell_type": "code",
   "execution_count": 19,
   "id": "cf479b5d",
   "metadata": {},
   "outputs": [
    {
     "name": "stdout",
     "output_type": "stream",
     "text": [
      "+-----------------+------------------+\n",
      "|      track_genre|   avg(popularity)|\n",
      "+-----------------+------------------+\n",
      "|         pop-film|59.287575150300604|\n",
      "|            k-pop|            56.896|\n",
      "|            chill|            53.651|\n",
      "|              sad|            52.379|\n",
      "|           grunge|            49.594|\n",
      "|           indian|            49.539|\n",
      "|            anime|            48.772|\n",
      "|              emo|            48.128|\n",
      "|        sertanejo|            47.866|\n",
      "|              pop|            47.576|\n",
      "|progressive-house|            46.615|\n",
      "|            piano|            45.273|\n",
      "|         mandopop|            45.025|\n",
      "|       deep-house|            44.808|\n",
      "|           brazil|             44.67|\n",
      "|       electronic|            44.325|\n",
      "|           pagode|            44.298|\n",
      "|          ambient|            44.191|\n",
      "|          british| 43.88264794383149|\n",
      "|            metal|            43.705|\n",
      "+-----------------+------------------+\n",
      "only showing top 20 rows\n",
      "\n"
     ]
    }
   ],
   "source": [
    "# Load the CSV file into a DataFrame\n",
    "df = spark.read.csv('train.csv', header=True, inferSchema=True)\n",
    "\n",
    "\n",
    "df_avg_popularity_by_genre = df.groupBy(\"track_genre\").agg({\"popularity\": \"avg\"}).orderBy(col(\"avg(popularity)\").desc())\n",
    "df_avg_popularity_by_genre.show()"
   ]
  },
  {
   "cell_type": "markdown",
   "id": "5f952cc7",
   "metadata": {},
   "source": [
    "<h3><left><font color=\"green\">2. Finding the top 10 tracks with the highest energy</font></left></h3>"
   ]
  },
  {
   "cell_type": "code",
   "execution_count": 20,
   "id": "1450531a",
   "metadata": {},
   "outputs": [
    {
     "name": "stdout",
     "output_type": "stream",
     "text": [
      "+----------+--------------------+--------------------+--------------------+--------------------+--------------------+--------------------+--------------------+------------+--------------------+------+--------+-----+-----------+------------+----------------+--------+--------+------+--------------+-----------+\n",
      "|Unnamed: 0|            track_id|             artists|          album_name|          track_name|          popularity|         duration_ms|            explicit|danceability|              energy|   key|loudness| mode|speechiness|acousticness|instrumentalness|liveness| valence| tempo|time_signature|track_genre|\n",
      "+----------+--------------------+--------------------+--------------------+--------------------+--------------------+--------------------+--------------------+------------+--------------------+------+--------+-----+-----------+------------+----------------+--------+--------+------+--------------+-----------+\n",
      "|     13388|39XjBtONTw3TGoVN5...| Robert Owens;Atjazz|\"Black Label #78 ...|          Snuff Crew| Niedermeier & Wh...|              Si-Tew| Matthias Heilbro...| John Gazoo\"|Hearts And Soul -...|    10|  471050|False|      0.802|       0.753|             2.0|  -7.923|       1|0.0324|       0.00685|      0.576|\n",
      "|     45024|48RME2XQqVXIaH54N...|         Estas Tonne|\"\"\"Strings and St...|       Live in Odeon|        Vienna 2011\"|The Song of the G...|                  48|      549809|               False| 0.233|   0.825|    4|    -10.095|           0|          0.0415|    0.68|   0.946| 0.565|         0.552|      89.01|\n",
      "|     76649|7nvdj8uWalevHaOBX...|Giuseppe Verdi;Ri...|         Verdi: Aida|\"Verdi: Aida, Act...| sul crin ti piov...|           Amneris)\"|                  22|       97093|               False| 0.232|  0.0847|    7|    -22.243|           0|          0.0414|   0.986| 0.00011| 0.343|         0.043|     89.912|\n",
      "|     16842|2HyJhQXLIyysNuz89...|Wolfgang Amadeus ...|Mozart - All Day ...|\"12 Variations in...| vous dirai-je Ma...| K. 265: 9. Varia...|                  15|       58360|               False| 0.435|   0.094|    7|    -25.717|           1|          0.0451|   0.995|   0.915| 0.181|         0.818|    105.188|\n",
      "|     76547|4aAeGUBWayg0PVqW3...|Giuseppe Verdi;Ri...|         Verdi: Aida|\"Verdi: Aida, Act...|              Ramfis|         Sacerdoti)\"|                  23|      131706|               False| 0.148| 0.00377|    3|    -40.046|           1|          0.0384|   0.986|   0.447|0.0928|         0.239|     81.078|\n",
      "|     16173|5aGhOb4iwTbfrgxQG...|Franz Schubert;Mi...|Classical Christm...|\"Ave Maria, \"\"Ell...|          Op.52 No.6| D.839 (Arr. Joha...|                   0|      335666|               False|0.0918|  0.0325|    8|    -26.707|           1|          0.0494|   0.995|   0.864| 0.109|        0.0393|     68.958|\n",
      "|     76826|16QKb6qf3WlmgsSDV...|Charles Lecocq;Ko...|Ballet Class Musi...|\"Pirouettes in A-...|               Act 1|      Allegro-valse\"|                  21|      105226|               False| 0.365|   0.109|    9|    -20.241|           1|          0.0511|   0.994|   0.948|0.0968|         0.404|     60.015|\n",
      "|     16239|1WFKR1UoO2aHEYnCU...|Franz Schubert;Mi...|Weihnachten Klass...|\"Ave Maria, \"\"Ell...|          Op.52 No.6| D.839 (Arr. Joha...|                   0|      335666|               False|0.0918|  0.0325|    8|    -26.707|           1|          0.0494|   0.995|   0.864| 0.109|        0.0393|     68.958|\n",
      "|     76346|7x56g3SKfKeE4XRg9...|Giuseppe Verdi;Ca...|40 Most Beautiful...|\"Verdi: La travia...|            Violetta|           Gastone)\"|                  25|      189239|               False| 0.324|   0.149|    5|    -18.318|           1|           0.051|   0.976|1.33e-05| 0.136|         0.154|     95.073|\n",
      "|     16672|4uaRUpAdVcjF5ME0Q...|Wolfgang Amadeus ...|Mozart: A Night o...|\"12 Variations in...| vous dirai-je Ma...| K. 265: 8. Varia...|                  25|       43586|               False| 0.367|   0.175|    0|    -19.716|           1|          0.0428|   0.974|   0.853| 0.232|         0.816|     74.077|\n",
      "+----------+--------------------+--------------------+--------------------+--------------------+--------------------+--------------------+--------------------+------------+--------------------+------+--------+-----+-----------+------------+----------------+--------+--------+------+--------------+-----------+\n",
      "\n"
     ]
    }
   ],
   "source": [
    "\n",
    "df_top_energy_tracks = df.orderBy(col(\"energy\").desc()).limit(10)\n",
    "df_top_energy_tracks.show()"
   ]
  },
  {
   "cell_type": "markdown",
   "id": "d4c26442",
   "metadata": {},
   "source": [
    "<h3><left><font color=\"green\">3. Calculating genre distribution of explicit vs. non-explicit tracks</font></left></h3>"
   ]
  },
  {
   "cell_type": "code",
   "execution_count": 21,
   "id": "8ce49ec5",
   "metadata": {},
   "outputs": [
    {
     "name": "stdout",
     "output_type": "stream",
     "text": [
      "+-----------+--------+-----+\n",
      "|track_genre|explicit|count|\n",
      "+-----------+--------+-----+\n",
      "|          4|   46741|    1|\n",
      "|death-metal|   False|  749|\n",
      "| deep-house|   False|  975|\n",
      "|      dance|    True|  174|\n",
      "|   cantopop|   False|  998|\n",
      "|          3|  459360|    6|\n",
      "|    114.211|      11|    1|\n",
      "|          4|  226626|    2|\n",
      "|    country|   False|  970|\n",
      "|death-metal|    True|  251|\n",
      "|          4|  320173|    3|\n",
      "|          3|   52202|    1|\n",
      "|          4|  262306|    4|\n",
      "|     74.077|      25|    1|\n",
      "|    148.759|       6|    2|\n",
      "|  bluegrass|    True|    5|\n",
      "|          4|  507146|    1|\n",
      "|  dancehall|    True|  302|\n",
      "|          4|  235253|    1|\n",
      "|          4|   60026|    2|\n",
      "+-----------+--------+-----+\n",
      "only showing top 20 rows\n",
      "\n"
     ]
    }
   ],
   "source": [
    "\n",
    "df_genre_explicit_distribution = df.groupBy(\"track_genre\", \"explicit\").count()\n",
    "df_genre_explicit_distribution.show()"
   ]
  },
  {
   "cell_type": "code",
   "execution_count": null,
   "id": "23f78eda",
   "metadata": {},
   "outputs": [],
   "source": []
  }
 ],
 "metadata": {
  "kernelspec": {
   "display_name": "Python 3 (ipykernel)",
   "language": "python",
   "name": "python3"
  },
  "language_info": {
   "codemirror_mode": {
    "name": "ipython",
    "version": 3
   },
   "file_extension": ".py",
   "mimetype": "text/x-python",
   "name": "python",
   "nbconvert_exporter": "python",
   "pygments_lexer": "ipython3",
   "version": "3.9.12"
  }
 },
 "nbformat": 4,
 "nbformat_minor": 5
}
