{
 "cells": [
  {
   "cell_type": "markdown",
   "id": "ae3512d1",
   "metadata": {},
   "source": [
    "<h1><left><font color=\"blue\">OLTP Queries with MongoDB</font></left></h1>"
   ]
  },
  {
   "cell_type": "code",
   "execution_count": 33,
   "id": "7b380f89",
   "metadata": {},
   "outputs": [],
   "source": [
    "from pymongo import MongoClient"
   ]
  },
  {
   "cell_type": "markdown",
   "id": "151ee484",
   "metadata": {},
   "source": [
    "<h3><left><font color=\"green\">Query to Validate Connectivity</font></left></h3>"
   ]
  },
  {
   "cell_type": "code",
   "execution_count": 34,
   "id": "20090bcb",
   "metadata": {},
   "outputs": [
    {
     "name": "stdout",
     "output_type": "stream",
     "text": [
      "{'_id': ObjectId('6585961e196812f1ab52efb9'), 'Unnamed: 0': 0, 'track_id': '5SuOikwiRyPMVoIQDJUgSV', 'artists': 'Gen Hoshino', 'album_name': 'Comedy', 'track_name': 'Comedy', 'popularity': 73, 'duration_ms': 230666, 'explicit': False, 'danceability': 0.676, 'energy': 0.461, 'key': 1, 'loudness': -6.746, 'mode': 0, 'speechiness': 0.143, 'acousticness': 0.0322, 'instrumentalness': 1.01e-06, 'liveness': 0.358, 'valence': 0.715, 'tempo': 87.917, 'time_signature': 4, 'track_genre': 'acoustic'}\n",
      "{'_id': ObjectId('6585961e196812f1ab52efba'), 'Unnamed: 0': 1, 'track_id': '4qPNDBW1i3p13qLCt0Ki3A', 'artists': 'Ben Woodward', 'album_name': 'Ghost (Acoustic)', 'track_name': 'Ghost - Acoustic', 'popularity': 55, 'duration_ms': 149610, 'explicit': False, 'danceability': 0.42, 'energy': 0.166, 'key': 1, 'loudness': -17.235, 'mode': 1, 'speechiness': 0.0763, 'acousticness': 0.924, 'instrumentalness': 5.56e-06, 'liveness': 0.101, 'valence': 0.267, 'tempo': 77.489, 'time_signature': 4, 'track_genre': 'acoustic'}\n",
      "{'_id': ObjectId('6585961e196812f1ab52efbb'), 'Unnamed: 0': 2, 'track_id': '1iJBSr7s7jYXzM8EGcbK5b', 'artists': 'Ingrid Michaelson;ZAYN', 'album_name': 'To Begin Again', 'track_name': 'To Begin Again', 'popularity': 57, 'duration_ms': 210826, 'explicit': False, 'danceability': 0.438, 'energy': 0.359, 'key': 0, 'loudness': -9.734, 'mode': 1, 'speechiness': 0.0557, 'acousticness': 0.21, 'instrumentalness': 0.0, 'liveness': 0.117, 'valence': 0.12, 'tempo': 76.332, 'time_signature': 4, 'track_genre': 'acoustic'}\n",
      "{'_id': ObjectId('6585961e196812f1ab52efbc'), 'Unnamed: 0': 3, 'track_id': '6lfxq3CG4xtTiEg7opyCyx', 'artists': 'Kina Grannis', 'album_name': 'Crazy Rich Asians (Original Motion Picture Soundtrack)', 'track_name': \"Can't Help Falling In Love\", 'popularity': 71, 'duration_ms': 201933, 'explicit': False, 'danceability': 0.266, 'energy': 0.0596, 'key': 0, 'loudness': -18.515, 'mode': 1, 'speechiness': 0.0363, 'acousticness': 0.905, 'instrumentalness': 7.07e-05, 'liveness': 0.132, 'valence': 0.143, 'tempo': 181.74, 'time_signature': 3, 'track_genre': 'acoustic'}\n",
      "{'_id': ObjectId('6585961e196812f1ab52efbd'), 'Unnamed: 0': 4, 'track_id': '5vjLSffimiIP26QG5WcN2K', 'artists': 'Chord Overstreet', 'album_name': 'Hold On', 'track_name': 'Hold On', 'popularity': 82, 'duration_ms': 198853, 'explicit': False, 'danceability': 0.618, 'energy': 0.443, 'key': 2, 'loudness': -9.681, 'mode': 1, 'speechiness': 0.0526, 'acousticness': 0.469, 'instrumentalness': 0.0, 'liveness': 0.0829, 'valence': 0.167, 'tempo': 119.949, 'time_signature': 4, 'track_genre': 'acoustic'}\n"
     ]
    }
   ],
   "source": [
    "# Connect to MongoDB (change the connection string accordingly)\n",
    "client = MongoClient('mongodb://localhost:27017/')\n",
    "db = client['Spotify']  # Replace 'your_database_name' with your database name\n",
    "collection = db['train_Data']  # Replace 'your_collection_name' with your collection name\n",
    "\n",
    "# Fetch data from MongoDB (Read operation)\n",
    "def fetch_data():\n",
    "    # Example: Fetch all documents\n",
    "    cursor = collection.find().limit(5)  # Retrieves all documents in the collection\n",
    "    for document in cursor:\n",
    "        print(document)  # Process each document (you can perform your operations here)\n",
    "# Run the function to fetch data\n",
    "fetch_data()"
   ]
  },
  {
   "cell_type": "markdown",
   "id": "87fe94bc",
   "metadata": {},
   "source": [
    "<h3><left><font color=\"green\">Query to fetch data based on POP Genre</font></left></h3>"
   ]
  },
  {
   "cell_type": "code",
   "execution_count": 35,
   "id": "bdafe7d3",
   "metadata": {},
   "outputs": [
    {
     "name": "stdout",
     "output_type": "stream",
     "text": [
      "{'_id': ObjectId('65859623196812f1ab542c21'), 'Unnamed: 0': 81000, 'track_id': '0VjIjW4GlUZAMYd2vXMi3b', 'artists': 'The Weeknd', 'album_name': 'After Hours', 'track_name': 'Blinding Lights', 'popularity': 91, 'duration_ms': 200040, 'explicit': False, 'danceability': 0.514, 'energy': 0.73, 'key': 1, 'loudness': -5.934, 'mode': 1, 'speechiness': 0.0598, 'acousticness': 0.00146, 'instrumentalness': 9.54e-05, 'liveness': 0.0897, 'valence': 0.334, 'tempo': 171.005, 'time_signature': 4, 'track_genre': 'pop'}\n",
      "{'_id': ObjectId('65859623196812f1ab542c22'), 'Unnamed: 0': 81001, 'track_id': '3yV2c3cYhkAwSsxAq6nRiv', 'artists': 'Gajendra Verma', 'album_name': 'Table No. 21 (Original Motion Picture Soundtrack)', 'track_name': 'Mann Mera', 'popularity': 74, 'duration_ms': 200120, 'explicit': False, 'danceability': 0.535, 'energy': 0.765, 'key': 1, 'loudness': -7.862, 'mode': 0, 'speechiness': 0.0444, 'acousticness': 0.054, 'instrumentalness': 0.0, 'liveness': 0.0921, 'valence': 0.373, 'tempo': 191.827, 'time_signature': 4, 'track_genre': 'pop'}\n",
      "{'_id': ObjectId('65859623196812f1ab542c23'), 'Unnamed: 0': 81002, 'track_id': '1aL9518P5G72N92b48tuKw', 'artists': 'AP Dhillon', 'album_name': 'Summer High', 'track_name': 'Summer High', 'popularity': 83, 'duration_ms': 177391, 'explicit': False, 'danceability': 0.86, 'energy': 0.541, 'key': 1, 'loudness': -6.51, 'mode': 0, 'speechiness': 0.0325, 'acousticness': 0.165, 'instrumentalness': 0.163, 'liveness': 0.0663, 'valence': 0.952, 'tempo': 114.984, 'time_signature': 4, 'track_genre': 'pop'}\n",
      "{'_id': ObjectId('65859623196812f1ab542c24'), 'Unnamed: 0': 81003, 'track_id': '5IgjP7X4th6nMNDh4akUHb', 'artists': 'Chris Brown', 'album_name': 'Indigo (Extended)', 'track_name': 'Under The Influence', 'popularity': 96, 'duration_ms': 184613, 'explicit': True, 'danceability': 0.733, 'energy': 0.69, 'key': 9, 'loudness': -5.529, 'mode': 0, 'speechiness': 0.0427, 'acousticness': 0.0635, 'instrumentalness': 1.18e-06, 'liveness': 0.105, 'valence': 0.31, 'tempo': 116.992, 'time_signature': 4, 'track_genre': 'pop'}\n",
      "{'_id': ObjectId('65859623196812f1ab542c25'), 'Unnamed: 0': 81004, 'track_id': '7MXVkk9YMctZqd1Srtv4MB', 'artists': 'The Weeknd;Daft Punk', 'album_name': 'Starboy', 'track_name': 'Starboy', 'popularity': 90, 'duration_ms': 230453, 'explicit': True, 'danceability': 0.679, 'energy': 0.587, 'key': 7, 'loudness': -7.015, 'mode': 1, 'speechiness': 0.276, 'acousticness': 0.141, 'instrumentalness': 6.35e-06, 'liveness': 0.137, 'valence': 0.486, 'tempo': 186.003, 'time_signature': 4, 'track_genre': 'pop'}\n"
     ]
    }
   ],
   "source": [
    "def fetch_data():\n",
    "\n",
    "    # Example: Fetch specific documents based on a condition\n",
    "    specific_documents = collection.find({\"track_genre\": \"pop\"}).limit(5)\n",
    "    for document in specific_documents:\n",
    "        print(document)  # Process each document\n",
    "\n",
    "    # You can use various query operators (e.g., $eq, $gt, $lt) to fetch data based on specific conditions\n",
    "\n",
    "# Run the function to fetch data\n",
    "fetch_data()"
   ]
  },
  {
   "cell_type": "markdown",
   "id": "02194223",
   "metadata": {},
   "source": [
    "<h3><left><font color=\"green\">Fetch a particular song title and update it</font></left></h3>"
   ]
  },
  {
   "cell_type": "code",
   "execution_count": 37,
   "id": "3563bcc2",
   "metadata": {},
   "outputs": [
    {
     "name": "stdout",
     "output_type": "stream",
     "text": [
      "Successfully updated 'To Begin Again' to 'Begin Again'\n"
     ]
    }
   ],
   "source": [
    "song_to_update = \"To Begin Again\"\n",
    "\n",
    "# Define the new title for the song\n",
    "new_title = \"Begin Again\"\n",
    "\n",
    "# Update the song title in MongoDB\n",
    "result = collection.update_one(\n",
    "    {\"track_name\": song_to_update},  # Match criteria for the song to update\n",
    "    {\"$set\": {\"track_name\": new_title}}  # Set the new title for the song\n",
    ")\n",
    "\n",
    "if result.modified_count > 0:\n",
    "    print(f\"Successfully updated '{song_to_update}' to '{new_title}'\")\n",
    "else:\n",
    "    print(f\"No song titled '{song_to_update}' found for update\")"
   ]
  },
  {
   "cell_type": "markdown",
   "id": "a570008a",
   "metadata": {},
   "source": [
    "<h3><left><font color=\"green\">Add a new song title to the list</font></left></h3>"
   ]
  },
  {
   "cell_type": "code",
   "execution_count": 38,
   "id": "84c233e3",
   "metadata": {},
   "outputs": [
    {
     "name": "stdout",
     "output_type": "stream",
     "text": [
      "Successfully added new song 'Teri Dewaani'\n"
     ]
    }
   ],
   "source": [
    "new_song_details = {\n",
    "    \"artists\": [\"Kailash Kher\"],\n",
    "    \"album_name\": \"Best of Kailash Kher\",\n",
    "    \"track_name\": \"Teri Dewaani\",\n",
    "    \"popularity\": 70,\n",
    "    \"duration_ms\": 240000,\n",
    "    \"explicit\": False,\n",
    "    \"danceability\": 0.8,\n",
    "    \"energy\": 0.7,\n",
    "    \"key\": \"C\",\n",
    "    \"loudness\": -5.0,\n",
    "    \"mode\": \"Major\",\n",
    "    \"speechiness\": 0.05,\n",
    "    \"acousticness\": 0.2,\n",
    "    \"instrumentalness\": 0.0,\n",
    "    \"liveness\": 0.1,\n",
    "    \"valence\": 0.6,\n",
    "    \"tempo\": 120.0,\n",
    "    \"time_signature\": 4,\n",
    "    \"track_genre\": \"Pop\"\n",
    "}\n",
    "\n",
    "# Insert the new song details into MongoDB\n",
    "result = collection.insert_one(new_song_details)\n",
    "\n",
    "if result.inserted_id:\n",
    "    print(f\"Successfully added new song '{new_song_details['track_name']}'\")\n",
    "else:\n",
    "    print(\"Failed to add new song\")"
   ]
  },
  {
   "cell_type": "code",
   "execution_count": 40,
   "id": "1dd7ab44",
   "metadata": {},
   "outputs": [
    {
     "name": "stdout",
     "output_type": "stream",
     "text": [
      "{'_id': ObjectId('65881314d263a7cbbe2dad06'), 'artists': ['Kailash Kher'], 'album_name': 'Best of Kailash Kher', 'track_name': 'Teri Dewaani', 'popularity': 70, 'duration_ms': 240000, 'explicit': False, 'danceability': 0.8, 'energy': 0.7, 'key': 'C', 'loudness': -5.0, 'mode': 'Major', 'speechiness': 0.05, 'acousticness': 0.2, 'instrumentalness': 0.0, 'liveness': 0.1, 'valence': 0.6, 'tempo': 120.0, 'time_signature': 4, 'track_genre': 'Pop'}\n"
     ]
    }
   ],
   "source": [
    "def fetch_data():\n",
    "\n",
    "    # Example: Fetch specific documents based on a condition\n",
    "    specific_documents = collection.find({\"track_name\": \"Teri Dewaani\"}).limit(5)\n",
    "    for document in specific_documents:\n",
    "        print(document)  # Process each document\n",
    "\n",
    "    # You can use various query operators (e.g., $eq, $gt, $lt) to fetch data based on specific conditions\n",
    "\n",
    "# Run the function to fetch data\n",
    "fetch_data()"
   ]
  },
  {
   "cell_type": "code",
   "execution_count": null,
   "id": "4a32def8",
   "metadata": {},
   "outputs": [],
   "source": []
  }
 ],
 "metadata": {
  "kernelspec": {
   "display_name": "Python 3 (ipykernel)",
   "language": "python",
   "name": "python3"
  },
  "language_info": {
   "codemirror_mode": {
    "name": "ipython",
    "version": 3
   },
   "file_extension": ".py",
   "mimetype": "text/x-python",
   "name": "python",
   "nbconvert_exporter": "python",
   "pygments_lexer": "ipython3",
   "version": "3.9.12"
  }
 },
 "nbformat": 4,
 "nbformat_minor": 5
}
